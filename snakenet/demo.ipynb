{
 "cells": [
  {
   "cell_type": "code",
   "execution_count": 5,
   "metadata": {},
   "outputs": [
    {
     "name": "stderr",
     "output_type": "stream",
     "text": [
      "usage: ipykernel_launcher.py [-h] [--cfg_file CFG_FILE] [--test] [--type TYPE]\n",
      "                             [--det DET] [-f F]\n",
      "                             ...\n",
      "ipykernel_launcher.py: error: unrecognized arguments: --ip=127.0.0.1 --stdin=9027 --control=9025 --hb=9024 --Session.signature_scheme=\"hmac-sha256\" --Session.key=b\"3f56ba2f-7fee-4a4c-9725-05e710412785\" --shell=9026 --transport=\"tcp\" --iopub=9028 --f=C:\\Users\\85387\\AppData\\Local\\Temp\\tmp-120727ktot9pCFn8v.json\n"
     ]
    },
    {
     "ename": "SystemExit",
     "evalue": "2",
     "output_type": "error",
     "traceback": [
      "An exception has occurred, use %tb to see the full traceback.\n",
      "\u001b[1;31mSystemExit\u001b[0m\u001b[1;31m:\u001b[0m 2\n"
     ]
    }
   ],
   "source": [
    "import sys\n",
    "sys.argv.extend(['--cfg_file', 'configs/sbd_snake.yaml', 'demo_path', 'demo_images/2009_000871.jpg', 'ct_score', '0.3'])\n",
    "\n",
    "from run import run_demo\n",
    "run_demo()"
   ]
  }
 ],
 "metadata": {
  "interpreter": {
   "hash": "9cce8cc437dfa47ba14f5c181a6229e28ee3d820ed610a28ca33bd24d774d785"
  },
  "kernelspec": {
   "display_name": "snake",
   "language": "python",
   "name": "python3"
  },
  "language_info": {
   "codemirror_mode": {
    "name": "ipython",
    "version": 3
   },
   "file_extension": ".py",
   "mimetype": "text/x-python",
   "name": "python",
   "nbconvert_exporter": "python",
   "pygments_lexer": "ipython3",
   "version": "3.7.12"
  }
 },
 "nbformat": 4,
 "nbformat_minor": 2
}
